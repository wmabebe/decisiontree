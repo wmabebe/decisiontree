{
 "cells": [
  {
   "cell_type": "code",
   "execution_count": 29,
   "metadata": {},
   "outputs": [],
   "source": [
    "from sklearn.datasets import load_iris\n",
    "from sklearn import tree\n",
    "from sklearn import preprocessing\n",
    "from sklearn.model_selection import train_test_split\n",
    "from sklearn.metrics import accuracy_score\n",
    "import pandas as pd\n",
    "import graphviz\n",
    "from sklearn.model_selection import KFold\n",
    "import numpy as np\n",
    "import math"
   ]
  },
  {
   "cell_type": "code",
   "execution_count": 30,
   "metadata": {},
   "outputs": [
    {
     "data": {
      "text/plain": [
       "5"
      ]
     },
     "execution_count": 30,
     "metadata": {},
     "output_type": "execute_result"
    }
   ],
   "source": [
    "X = []\n",
    "Y = []\n",
    "with open(\"votedata.txt\") as data1:\n",
    "    for line in data1.readlines():\n",
    "        X.append([int(i) for i in line.replace(\"democrat\",\"0\").replace(\"republican\",\"1\").replace(\"?\",\"2\").replace(\"n\",\"0\").replace(\"y\",\"1\").split(\",\")[1:]])\n",
    "        Y.append(0 if line.split(\",\")[0] == \"democrat\" else 1 )\n",
    "\n",
    "X = np.asarray(X)\n",
    "Y = np.asarray(Y)\n",
    "\n",
    "kf = KFold(n_splits=5)\n",
    "kf.get_n_splits(X)\n"
   ]
  },
  {
   "cell_type": "code",
   "execution_count": 31,
   "metadata": {},
   "outputs": [],
   "source": [
    "class_names = [\"democrat\",\"republican\"]\n",
    "feature_names = [\"handicapped-infants\",\n",
    "\"water-project-cost-sharing\",\n",
    "\"adoption-of-the-budget-resolution\",\n",
    "\"physician-fee-freeze\",\n",
    "\"el-salvador-aid\",\n",
    "\"religious-groups-in-schools\",\n",
    "\"anti-satellite-test-ban\",\n",
    "\"aid-to-nicaraguan-contras\",\n",
    "\"mx-missile\",\n",
    "\"immigration\",\n",
    "\"synfuels-corporation-cutback\",\n",
    "\"education-spending\",\n",
    "\"superfund-right-to-sue\",\n",
    "\"crime\",\n",
    "\"duty-free-exports\",\n",
    "\"export-administration-act-south-africa\",]\n"
   ]
  },
  {
   "cell_type": "code",
   "execution_count": 33,
   "metadata": {},
   "outputs": [
    {
     "name": "stdout",
     "output_type": "stream",
     "text": [
      "Accuracy: 97.70%\n",
      "Accuracy: 98.85%\n",
      "Accuracy: 97.70%\n",
      "Accuracy: 90.80%\n",
      "Accuracy: 94.25%\n",
      "Mean Accuracy: 95.86%\n",
      "Interval: +/- (1.87)%\n"
     ]
    }
   ],
   "source": [
    "clf = tree.DecisionTreeClassifier()\n",
    "avg = 0\n",
    "i = 1\n",
    "for train_index, test_index in kf.split(X):\n",
    "    #print(\"TRAIN:\", train_index, \"TEST:\", test_index)\n",
    "    X_train, X_test = X[train_index], X[test_index]\n",
    "    Y_train, Y_test = Y[train_index], Y[test_index]\n",
    "    clf = clf.fit(X_train, Y_train)\n",
    "    Y_pred = clf.predict(X_test)\n",
    "\n",
    "    score = accuracy_score(Y_test,Y_pred)\n",
    "    avg += score\n",
    "    print(\"Accuracy: {:.2f}%\".format(score * 100))\n",
    "    \n",
    "    dot_data = tree.export_graphviz(clf, out_file=None, feature_names = feature_names, class_names = class_names) \n",
    "    graph = graphviz.Source(dot_data)\n",
    "    graph.render(\"vote_cv_\"+ str(i))\n",
    "    i += 1\n",
    "\n",
    "avg /= 5\n",
    "print (\"Mean Accuracy: {:.2f}%\".format(avg * 100))\n",
    "interval = 1.96 * math.sqrt( (avg * (1 - avg)) / len(X))\n",
    "print (\"Interval: +/- ({:.2f})%\".format(interval * 100))"
   ]
  },
  {
   "cell_type": "code",
   "execution_count": null,
   "metadata": {},
   "outputs": [],
   "source": []
  }
 ],
 "metadata": {
  "kernelspec": {
   "display_name": "Python 3",
   "language": "python",
   "name": "python3"
  },
  "language_info": {
   "codemirror_mode": {
    "name": "ipython",
    "version": 3
   },
   "file_extension": ".py",
   "mimetype": "text/x-python",
   "name": "python",
   "nbconvert_exporter": "python",
   "pygments_lexer": "ipython3",
   "version": "3.7.1"
  }
 },
 "nbformat": 4,
 "nbformat_minor": 2
}
